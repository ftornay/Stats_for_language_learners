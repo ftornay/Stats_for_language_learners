{
 "cells": [
  {
   "cell_type": "markdown",
   "metadata": {},
   "source": [
    "# We will use Gutenberg texts as corpus\n",
    "## This library helps search them\n",
    "https://pypi.org/project/Gutenberg/"
   ]
  },
  {
   "cell_type": "code",
   "execution_count": 1,
   "metadata": {},
   "outputs": [],
   "source": [
    "# To install for Python 3 we need BSD-DB\n",
    "# The code below is for unix, check the library repo\n",
    "# for other OSs\n",
    "\n",
    "#!sudo apt-get install libdb++-dev\n",
    "#!export BERKELEYDB_DIR=/usr\n",
    "#!pip install gutenberg"
   ]
  },
  {
   "cell_type": "code",
   "execution_count": 2,
   "metadata": {},
   "outputs": [],
   "source": [
    "# Before searching we must index the texts\n",
    "# (populate the metadata cache)\n",
    "# This is a one-time operation that may take a long time to complete\n",
    "# Let it run overnight\n",
    "\n",
    "#from gutenberg.acquire import get_metadata_cache\n",
    "#cache = get_metadata_cache()\n",
    "#cache.populate()"
   ]
  },
  {
   "cell_type": "code",
   "execution_count": 5,
   "metadata": {},
   "outputs": [
    {
     "name": "stdout",
     "output_type": "stream",
     "text": [
      "MOBY-DICK;\n",
      "\n",
      "or, THE WHALE.\n",
      "\n",
      "By Herman Melville\n",
      "\n",
      "\n",
      "\n",
      "CONTENTS\n",
      "\n",
      "ETYMOLOGY.\n",
      "\n",
      "EXTRACTS (Supplied by a Sub-Sub-Librarian).\n",
      "\n",
      "CHAPTER 1. Loomings.\n",
      "\n",
      "CHAPTER 2. The Carpet-Bag.\n",
      "\n",
      "CHAPTER 3. The Spouter-Inn.\n",
      "\n",
      "CHAPTER 4. The Counterpane.\n",
      "\n",
      "CHAPTER 5. Breakfast.\n",
      "\n",
      "CHAPTER 6. The Street.\n",
      "\n",
      "CHAPTER 7. The Chapel.\n",
      "\n",
      "CHAPTER 8. The Pulpit.\n",
      "\n",
      "CHAPTER 9. The Sermon.\n",
      "\n",
      "CHAPTER 10. A Bosom Friend.\n",
      "\n",
      "CHAPTER 11. Nightgown.\n",
      "\n",
      "CHAPTER 12. Biographical.\n",
      "\n",
      "CHAPTER 13. Wheelbarrow.\n",
      "\n",
      "CHAPTER 14. Nantucket.\n",
      "\n",
      "CHAPTER 15. Chowder.\n",
      "\n",
      "CHAPTER 16. The Ship.\n",
      "\n",
      "CHAPTER 17. The Ramadan.\n",
      "\n",
      "CHAPTER 18. His Mark.\n",
      "\n",
      "CHAPTER 19. The Prophet.\n",
      "\n",
      "CHAPTER 20. All Astir.\n",
      "\n",
      "CHAPTER 21. Going Aboard.\n",
      "\n",
      "CHAPTER 22. Merry Christmas.\n",
      "\n",
      "CHAPTER 23. The Lee Shore.\n",
      "\n",
      "CHAPTER 24. The Advocate.\n",
      "\n",
      "CHAPTER 25. Postscript.\n",
      "\n",
      "CHAPTER 26. Knights and Squires.\n",
      "\n",
      "CHAPTER 27. Knights and Squires.\n",
      "\n",
      "CHAPTER 28. Ahab.\n",
      "\n",
      "CHAPTER 29. Enter Ahab; to Him, Stubb.\n",
      "\n",
      "CHAPTER 30. The Pipe.\n",
      "\n",
      "CHAPTER 31. Queen Mab.\n",
      "\n",
      "CHAPTER 32. Cetology.\n",
      "\n",
      "CHAPTER 33. The Specksnyder.\n",
      "\n",
      "CHAPTER 34. The Ca\n"
     ]
    }
   ],
   "source": [
    "# Example from the library\n",
    "# Download book\n",
    "from gutenberg.acquire import load_etext\n",
    "from gutenberg.cleanup import strip_headers\n",
    "\n",
    "text = strip_headers(load_etext(2701)).strip()\n",
    "print(text[:1000])  # prints 'MOBY DICK; OR THE WHALE\\n\\nBy Herman Melville ...'"
   ]
  },
  {
   "cell_type": "code",
   "execution_count": 6,
   "metadata": {},
   "outputs": [
    {
     "name": "stdout",
     "output_type": "stream",
     "text": [
      "('author', 'formaturi', 'language', 'rights', 'subject', 'title')\n"
     ]
    }
   ],
   "source": [
    "# Available metadata\n",
    "from gutenberg.query import list_supported_metadatas\n",
    "\n",
    "print(list_supported_metadatas()) # prints (u'author', u'formaturi', u'language', ...)"
   ]
  },
  {
   "cell_type": "code",
   "execution_count": 2,
   "metadata": {},
   "outputs": [],
   "source": [
    "import sys"
   ]
  },
  {
   "cell_type": "code",
   "execution_count": 3,
   "metadata": {},
   "outputs": [
    {
     "data": {
      "text/plain": [
       "'/home/ftornay/miniconda3/bin/python'"
      ]
     },
     "execution_count": 3,
     "metadata": {},
     "output_type": "execute_result"
    }
   ],
   "source": [
    "# Next: find books available in more than one language"
   ]
  },
  {
   "cell_type": "code",
   "execution_count": null,
   "metadata": {},
   "outputs": [],
   "source": []
  }
 ],
 "metadata": {
  "kernelspec": {
   "display_name": "Python3 (Spacy)",
   "language": "python",
   "name": "spacy"
  },
  "language_info": {
   "codemirror_mode": {
    "name": "ipython",
    "version": 3
   },
   "file_extension": ".py",
   "mimetype": "text/x-python",
   "name": "python",
   "nbconvert_exporter": "python",
   "pygments_lexer": "ipython3",
   "version": "3.8.3"
  }
 },
 "nbformat": 4,
 "nbformat_minor": 4
}
